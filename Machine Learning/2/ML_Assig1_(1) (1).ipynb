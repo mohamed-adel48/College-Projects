{
  "nbformat": 4,
  "nbformat_minor": 0,
  "metadata": {
    "colab": {
      "provenance": []
    },
    "kernelspec": {
      "name": "python3",
      "display_name": "Python 3"
    },
    "language_info": {
      "name": "python"
    },
    "gpuClass": "standard"
  },
  "cells": [
    {
      "cell_type": "markdown",
      "source": [
        "### **Importing Libraries**"
      ],
      "metadata": {
        "id": "M1kmkaFBop8M"
      }
    },
    {
      "cell_type": "code",
      "execution_count": 2,
      "metadata": {
        "id": "oqo_RHD7MtDB"
      },
      "outputs": [],
      "source": [
        "import sklearn\n",
        "import numpy as np\n",
        "import pandas as pd"
      ]
    },
    {
      "cell_type": "code",
      "source": [
        "dataset = pd.read_csv(\"/content/drive/MyDrive/Machine/Copy of Heart Failure Records.csv\")\n",
        "\n",
        "x = dataset.iloc[:,0:-1].values\n",
        "y = dataset.iloc[:,-1].values\n",
        "dataset.head()"
      ],
      "metadata": {
        "id": "IYh_6DYkM3gO",
        "colab": {
          "base_uri": "https://localhost:8080/",
          "height": 267
        },
        "outputId": "e70dc2cf-6368-49a8-d92a-8165b7b4e358"
      },
      "execution_count": 3,
      "outputs": [
        {
          "output_type": "execute_result",
          "data": {
            "text/plain": [
              "    Age  Anaemia  Creatinine phosphokinase  Diabetes  Ejection fraction  \\\n",
              "0  75.0        0                       582         0                 20   \n",
              "1  55.0        0                      7861         0                 38   \n",
              "2  65.0        0                       146         0                 20   \n",
              "3  50.0        1                       111         0                 20   \n",
              "4  65.0        1                       160         1                 20   \n",
              "\n",
              "   High blood pressure  Platelets  Serum Creatinine  Serum Sodium  Sex  \\\n",
              "0                    1  265000.00               1.9           130    1   \n",
              "1                    0  263358.03               1.1           136    1   \n",
              "2                    0  162000.00               1.3           129    1   \n",
              "3                    0  210000.00               1.9           137    1   \n",
              "4                    0  327000.00               2.7           116    0   \n",
              "\n",
              "   Smoking  Time  Death Event  \n",
              "0        0     4            1  \n",
              "1        0     6            1  \n",
              "2        1     7            1  \n",
              "3        0     7            1  \n",
              "4        0     8            1  "
            ],
            "text/html": [
              "\n",
              "  <div id=\"df-7e9a4d06-3cd2-4678-bce3-a62652185ea0\">\n",
              "    <div class=\"colab-df-container\">\n",
              "      <div>\n",
              "<style scoped>\n",
              "    .dataframe tbody tr th:only-of-type {\n",
              "        vertical-align: middle;\n",
              "    }\n",
              "\n",
              "    .dataframe tbody tr th {\n",
              "        vertical-align: top;\n",
              "    }\n",
              "\n",
              "    .dataframe thead th {\n",
              "        text-align: right;\n",
              "    }\n",
              "</style>\n",
              "<table border=\"1\" class=\"dataframe\">\n",
              "  <thead>\n",
              "    <tr style=\"text-align: right;\">\n",
              "      <th></th>\n",
              "      <th>Age</th>\n",
              "      <th>Anaemia</th>\n",
              "      <th>Creatinine phosphokinase</th>\n",
              "      <th>Diabetes</th>\n",
              "      <th>Ejection fraction</th>\n",
              "      <th>High blood pressure</th>\n",
              "      <th>Platelets</th>\n",
              "      <th>Serum Creatinine</th>\n",
              "      <th>Serum Sodium</th>\n",
              "      <th>Sex</th>\n",
              "      <th>Smoking</th>\n",
              "      <th>Time</th>\n",
              "      <th>Death Event</th>\n",
              "    </tr>\n",
              "  </thead>\n",
              "  <tbody>\n",
              "    <tr>\n",
              "      <th>0</th>\n",
              "      <td>75.0</td>\n",
              "      <td>0</td>\n",
              "      <td>582</td>\n",
              "      <td>0</td>\n",
              "      <td>20</td>\n",
              "      <td>1</td>\n",
              "      <td>265000.00</td>\n",
              "      <td>1.9</td>\n",
              "      <td>130</td>\n",
              "      <td>1</td>\n",
              "      <td>0</td>\n",
              "      <td>4</td>\n",
              "      <td>1</td>\n",
              "    </tr>\n",
              "    <tr>\n",
              "      <th>1</th>\n",
              "      <td>55.0</td>\n",
              "      <td>0</td>\n",
              "      <td>7861</td>\n",
              "      <td>0</td>\n",
              "      <td>38</td>\n",
              "      <td>0</td>\n",
              "      <td>263358.03</td>\n",
              "      <td>1.1</td>\n",
              "      <td>136</td>\n",
              "      <td>1</td>\n",
              "      <td>0</td>\n",
              "      <td>6</td>\n",
              "      <td>1</td>\n",
              "    </tr>\n",
              "    <tr>\n",
              "      <th>2</th>\n",
              "      <td>65.0</td>\n",
              "      <td>0</td>\n",
              "      <td>146</td>\n",
              "      <td>0</td>\n",
              "      <td>20</td>\n",
              "      <td>0</td>\n",
              "      <td>162000.00</td>\n",
              "      <td>1.3</td>\n",
              "      <td>129</td>\n",
              "      <td>1</td>\n",
              "      <td>1</td>\n",
              "      <td>7</td>\n",
              "      <td>1</td>\n",
              "    </tr>\n",
              "    <tr>\n",
              "      <th>3</th>\n",
              "      <td>50.0</td>\n",
              "      <td>1</td>\n",
              "      <td>111</td>\n",
              "      <td>0</td>\n",
              "      <td>20</td>\n",
              "      <td>0</td>\n",
              "      <td>210000.00</td>\n",
              "      <td>1.9</td>\n",
              "      <td>137</td>\n",
              "      <td>1</td>\n",
              "      <td>0</td>\n",
              "      <td>7</td>\n",
              "      <td>1</td>\n",
              "    </tr>\n",
              "    <tr>\n",
              "      <th>4</th>\n",
              "      <td>65.0</td>\n",
              "      <td>1</td>\n",
              "      <td>160</td>\n",
              "      <td>1</td>\n",
              "      <td>20</td>\n",
              "      <td>0</td>\n",
              "      <td>327000.00</td>\n",
              "      <td>2.7</td>\n",
              "      <td>116</td>\n",
              "      <td>0</td>\n",
              "      <td>0</td>\n",
              "      <td>8</td>\n",
              "      <td>1</td>\n",
              "    </tr>\n",
              "  </tbody>\n",
              "</table>\n",
              "</div>\n",
              "      <button class=\"colab-df-convert\" onclick=\"convertToInteractive('df-7e9a4d06-3cd2-4678-bce3-a62652185ea0')\"\n",
              "              title=\"Convert this dataframe to an interactive table.\"\n",
              "              style=\"display:none;\">\n",
              "        \n",
              "  <svg xmlns=\"http://www.w3.org/2000/svg\" height=\"24px\"viewBox=\"0 0 24 24\"\n",
              "       width=\"24px\">\n",
              "    <path d=\"M0 0h24v24H0V0z\" fill=\"none\"/>\n",
              "    <path d=\"M18.56 5.44l.94 2.06.94-2.06 2.06-.94-2.06-.94-.94-2.06-.94 2.06-2.06.94zm-11 1L8.5 8.5l.94-2.06 2.06-.94-2.06-.94L8.5 2.5l-.94 2.06-2.06.94zm10 10l.94 2.06.94-2.06 2.06-.94-2.06-.94-.94-2.06-.94 2.06-2.06.94z\"/><path d=\"M17.41 7.96l-1.37-1.37c-.4-.4-.92-.59-1.43-.59-.52 0-1.04.2-1.43.59L10.3 9.45l-7.72 7.72c-.78.78-.78 2.05 0 2.83L4 21.41c.39.39.9.59 1.41.59.51 0 1.02-.2 1.41-.59l7.78-7.78 2.81-2.81c.8-.78.8-2.07 0-2.86zM5.41 20L4 18.59l7.72-7.72 1.47 1.35L5.41 20z\"/>\n",
              "  </svg>\n",
              "      </button>\n",
              "      \n",
              "  <style>\n",
              "    .colab-df-container {\n",
              "      display:flex;\n",
              "      flex-wrap:wrap;\n",
              "      gap: 12px;\n",
              "    }\n",
              "\n",
              "    .colab-df-convert {\n",
              "      background-color: #E8F0FE;\n",
              "      border: none;\n",
              "      border-radius: 50%;\n",
              "      cursor: pointer;\n",
              "      display: none;\n",
              "      fill: #1967D2;\n",
              "      height: 32px;\n",
              "      padding: 0 0 0 0;\n",
              "      width: 32px;\n",
              "    }\n",
              "\n",
              "    .colab-df-convert:hover {\n",
              "      background-color: #E2EBFA;\n",
              "      box-shadow: 0px 1px 2px rgba(60, 64, 67, 0.3), 0px 1px 3px 1px rgba(60, 64, 67, 0.15);\n",
              "      fill: #174EA6;\n",
              "    }\n",
              "\n",
              "    [theme=dark] .colab-df-convert {\n",
              "      background-color: #3B4455;\n",
              "      fill: #D2E3FC;\n",
              "    }\n",
              "\n",
              "    [theme=dark] .colab-df-convert:hover {\n",
              "      background-color: #434B5C;\n",
              "      box-shadow: 0px 1px 3px 1px rgba(0, 0, 0, 0.15);\n",
              "      filter: drop-shadow(0px 1px 2px rgba(0, 0, 0, 0.3));\n",
              "      fill: #FFFFFF;\n",
              "    }\n",
              "  </style>\n",
              "\n",
              "      <script>\n",
              "        const buttonEl =\n",
              "          document.querySelector('#df-7e9a4d06-3cd2-4678-bce3-a62652185ea0 button.colab-df-convert');\n",
              "        buttonEl.style.display =\n",
              "          google.colab.kernel.accessAllowed ? 'block' : 'none';\n",
              "\n",
              "        async function convertToInteractive(key) {\n",
              "          const element = document.querySelector('#df-7e9a4d06-3cd2-4678-bce3-a62652185ea0');\n",
              "          const dataTable =\n",
              "            await google.colab.kernel.invokeFunction('convertToInteractive',\n",
              "                                                     [key], {});\n",
              "          if (!dataTable) return;\n",
              "\n",
              "          const docLinkHtml = 'Like what you see? Visit the ' +\n",
              "            '<a target=\"_blank\" href=https://colab.research.google.com/notebooks/data_table.ipynb>data table notebook</a>'\n",
              "            + ' to learn more about interactive tables.';\n",
              "          element.innerHTML = '';\n",
              "          dataTable['output_type'] = 'display_data';\n",
              "          await google.colab.output.renderOutput(dataTable, element);\n",
              "          const docLink = document.createElement('div');\n",
              "          docLink.innerHTML = docLinkHtml;\n",
              "          element.appendChild(docLink);\n",
              "        }\n",
              "      </script>\n",
              "    </div>\n",
              "  </div>\n",
              "  "
            ]
          },
          "metadata": {},
          "execution_count": 3
        }
      ]
    },
    {
      "cell_type": "code",
      "source": [
        "from sklearn.model_selection import train_test_split\n",
        "x_train,x_test,y_train, y_test = train_test_split(x,y,test_size=0.30)"
      ],
      "metadata": {
        "id": "D16-7qC1UUmD"
      },
      "execution_count": 4,
      "outputs": []
    },
    {
      "cell_type": "markdown",
      "source": [
        "\n",
        "### **Logistic Regression (Training & Predcting)**"
      ],
      "metadata": {
        "id": "cQGnxbHGq0Q5"
      }
    },
    {
      "cell_type": "code",
      "source": [
        "from sklearn.linear_model import LogisticRegression\n",
        "LR = LogisticRegression(max_iter = 1000)\n",
        "LR.fit(x_train,y_train)\n",
        "y_pred = LR.predict(x_test)"
      ],
      "metadata": {
        "id": "2CgSCDW-VaU4"
      },
      "execution_count": 5,
      "outputs": []
    },
    {
      "cell_type": "markdown",
      "source": [
        "\n",
        "\n",
        "### **Logistic Regression (Accuracy)**"
      ],
      "metadata": {
        "id": "YfTDY_0Sq1D8"
      }
    },
    {
      "cell_type": "code",
      "source": [
        "from sklearn.metrics import accuracy_score\n",
        "print(\"Testing accuracy for Logistic Regression =\",accuracy_score(y_test,y_pred) * 100,\"%\")"
      ],
      "metadata": {
        "colab": {
          "base_uri": "https://localhost:8080/"
        },
        "id": "bFkoD-FZBEV_",
        "outputId": "53d49d09-2be1-4f49-9f3a-f80d0eadbf58"
      },
      "execution_count": 6,
      "outputs": [
        {
          "output_type": "stream",
          "name": "stdout",
          "text": [
            "Testing accuracy for Logistic Regression = 78.88888888888889 %\n"
          ]
        }
      ]
    },
    {
      "cell_type": "markdown",
      "source": [
        "\n",
        "\n",
        "### **Logistic Regression (Confusion Matrix)**"
      ],
      "metadata": {
        "id": "RfSJcwrIq1vA"
      }
    },
    {
      "cell_type": "code",
      "source": [
        "import seaborn as sns\n",
        "import matplotlib.pyplot as plt\n",
        "from sklearn.metrics import confusion_matrix\n",
        "\n",
        "cM = confusion_matrix(y_test, y_pred)\n",
        "plt.title(\"LogisticRegression\")\n",
        "\n",
        "sns.heatmap(cM, annot=True)\n",
        "plt.savefig('con_Dig.png')"
      ],
      "metadata": {
        "id": "sY_v87nibP_V",
        "colab": {
          "base_uri": "https://localhost:8080/",
          "height": 281
        },
        "outputId": "984aac15-d002-4948-d274-4e079beccfcf"
      },
      "execution_count": 7,
      "outputs": [
        {
          "output_type": "display_data",
          "data": {
            "text/plain": [
              "<Figure size 432x288 with 2 Axes>"
            ],
            "image/png": "[encoded data removed]"
          },
          "metadata": {
            "needs_background": "light"
          }
        }
      ]
    },
    {
      "cell_type": "markdown",
      "source": [
        "\n",
        "### **Logistic Regression (Confusin Matrix Evaluate)**"
      ],
      "metadata": {
        "id": "OB1VYunpq41M"
      }
    },
    {
      "cell_type": "code",
      "source": [
        "from sklearn.metrics import precision_score, recall_score, f1_score\n",
        "precision = precision_score(y_test, y_pred, average=\"binary\") * 100\n",
        "print('Precision = %.3f' % precision,'%')\n",
        "recall = recall_score(y_test, y_pred, average=\"binary\") * 100\n",
        "print('Recall = %.3f' % recall,'%')\n",
        "f_measure = f1_score(y_test, y_pred, average=\"binary\") * 100\n",
        "print('f_measure = %.3f' % f_measure,'%')"
      ],
      "metadata": {
        "id": "qTg0wEm2bta3",
        "colab": {
          "base_uri": "https://localhost:8080/"
        },
        "outputId": "b9600ffd-c575-481a-bc71-36acc72f867e"
      },
      "execution_count": 8,
      "outputs": [
        {
          "output_type": "stream",
          "name": "stdout",
          "text": [
            "Precision = 75.000 %\n",
            "Recall = 51.724 %\n",
            "f_measure = 61.224 %\n"
          ]
        }
      ]
    },
    {
      "cell_type": "markdown",
      "source": [
        "\n",
        "\n",
        "### **Logistic Regression (Cross Validation)**"
      ],
      "metadata": {
        "id": "PCOKiUbHq2Qo"
      }
    },
    {
      "cell_type": "code",
      "source": [
        "from sklearn.model_selection import StratifiedKFold\n",
        "num_splits = 10\n",
        "kfold = StratifiedKFold(num_splits, shuffle= True, random_state = 1)\n",
        "train_accs, test_accs = [], [] \n",
        "for train_index, test_index in kfold.split(x, y):  \n",
        "    x_train, x_test = x[train_index], x[test_index]\n",
        "    y_train, y_test = y[train_index], y[test_index]\n",
        "  \n",
        "    LR.fit(x_train, y_train)\n",
        "    y_pred_train = LR.predict(x_train)\n",
        "    y_pred_test = LR.predict(x_test)\n",
        "    \n",
        "    train_accs.append(accuracy_score(y_train, y_pred_train) * 100)\n",
        "    test_accs.append(accuracy_score(y_test, y_pred_test) * 100)\n",
        "ave_train_acc = 0\n",
        "ave_test_acc = 0\n",
        "\n",
        "print(\"\\t\",\"Training_Acc\",\"\\t\\t\", \"Testing_Acc\")\n",
        "\n",
        "for i in range(num_splits):\n",
        "    print(i,\" \\t\",'%.3f'% train_accs[i],\"\\t\\t\", '%.3f'% test_accs[i])\n",
        "    \n",
        "    ave_train_acc+= train_accs[i]/num_splits\n",
        "    ave_test_acc+= test_accs[i]/num_splits\n",
        "    \n",
        "print(\"Average\", \"\",'%.3f'% ave_train_acc,\"\\t\\t\", ave_test_acc)"
      ],
      "metadata": {
        "id": "9eFMPdbGunL7",
        "colab": {
          "base_uri": "https://localhost:8080/"
        },
        "outputId": "e393d086-bf08-4a02-ce42-9a692c9e0eab"
      },
      "execution_count": 9,
      "outputs": [
        {
          "output_type": "stream",
          "name": "stdout",
          "text": [
            "\t Training_Acc \t\t Testing_Acc\n",
            "0  \t 85.502 \t\t 63.333\n",
            "1  \t 84.387 \t\t 73.333\n",
            "2  \t 83.643 \t\t 73.333\n",
            "3  \t 82.528 \t\t 83.333\n",
            "4  \t 81.041 \t\t 90.000\n",
            "5  \t 82.156 \t\t 86.667\n",
            "6  \t 82.156 \t\t 86.667\n",
            "7  \t 83.643 \t\t 73.333\n",
            "8  \t 81.784 \t\t 90.000\n",
            "9  \t 81.852 \t\t 89.655\n",
            "Average  82.869 \t\t 80.96551724137932\n"
          ]
        }
      ]
    },
    {
      "cell_type": "markdown",
      "source": [
        "\n",
        "### **Naive Bayes (Training & Predcting)**"
      ],
      "metadata": {
        "id": "SfpCuNrCz1wo"
      }
    },
    {
      "cell_type": "code",
      "source": [
        "from sklearn.naive_bayes import GaussianNB\n",
        "naive_bayes_gaussianNB = GaussianNB()\n",
        "naive_bayes_gaussianNB.fit(x_train,y_train)\n",
        "y_pred2 = naive_bayes_gaussianNB.predict(x_test)"
      ],
      "metadata": {
        "id": "ZXquOdzKija2"
      },
      "execution_count": 10,
      "outputs": []
    },
    {
      "cell_type": "markdown",
      "source": [
        "### **Naive Bayes (Accuracy)**"
      ],
      "metadata": {
        "id": "S1wk0tq1q3PP"
      }
    },
    {
      "cell_type": "code",
      "source": [
        "from sklearn.metrics import accuracy_score\n",
        "print(\"Testing accuracy for Naive Bayes =\",accuracy_score(y_test,y_pred2) * 100,\"%\")"
      ],
      "metadata": {
        "colab": {
          "base_uri": "https://localhost:8080/"
        },
        "id": "pAOGdqstwyeS",
        "outputId": "299d65b7-4a4a-4d81-d972-c130e9f9176e"
      },
      "execution_count": 11,
      "outputs": [
        {
          "output_type": "stream",
          "name": "stdout",
          "text": [
            "Testing accuracy for Naive Bayes = 93.10344827586206 %\n"
          ]
        }
      ]
    },
    {
      "cell_type": "markdown",
      "source": [
        "### **Naive Bayes (Confusion Matrix)**"
      ],
      "metadata": {
        "id": "AeAfvOQLxM6s"
      }
    },
    {
      "cell_type": "code",
      "source": [
        "import seaborn as sns\n",
        "import matplotlib.pyplot as plt\n",
        "from sklearn.metrics import confusion_matrix\n",
        "\n",
        "cM = confusion_matrix(y_test, y_pred2)\n",
        "plt.title(\"NaiveBayes\")\n",
        "\n",
        "sns.heatmap(cM, annot=True)\n",
        "plt.savefig('con_Dig2.png')"
      ],
      "metadata": {
        "id": "k-lwK-zXmO2z",
        "colab": {
          "base_uri": "https://localhost:8080/",
          "height": 281
        },
        "outputId": "ec5ff781-5876-4266-ea9b-a3e6a188cc6c"
      },
      "execution_count": 12,
      "outputs": [
        {
          "output_type": "display_data",
          "data": {
            "text/plain": [
              "<Figure size 432x288 with 2 Axes>"
            ],
            "image/png": "[encoded data removed]"
          },
          "metadata": {
            "needs_background": "light"
          }
        }
      ]
    },
    {
      "cell_type": "markdown",
      "source": [
        "\n",
        "### **Naive  Bayes (Confusin Matrix Evaluate)**"
      ],
      "metadata": {
        "id": "HRohLyZ0q-HF"
      }
    },
    {
      "cell_type": "code",
      "source": [
        "from sklearn.metrics import classification_report\n",
        "precision = precision_score(y_test, y_pred2, average=\"binary\") * 100\n",
        "print('Precision = %.3f' % precision,'%')\n",
        "recall = recall_score(y_test, y_pred2, average=\"binary\") * 100\n",
        "print('Recall = %.3f' % recall,'%')\n",
        "f_measure = f1_score(y_test, y_pred2, average=\"binary\") * 100\n",
        "print('f_measure = %.3f' % f_measure,'%')"
      ],
      "metadata": {
        "id": "0_aQS1UJmZP6",
        "colab": {
          "base_uri": "https://localhost:8080/"
        },
        "outputId": "c264d965-89cb-41e1-e3c4-23cd9c232b99"
      },
      "execution_count": 13,
      "outputs": [
        {
          "output_type": "stream",
          "name": "stdout",
          "text": [
            "Precision = 100.000 %\n",
            "Recall = 77.778 %\n",
            "f_measure = 87.500 %\n"
          ]
        }
      ]
    },
    {
      "cell_type": "markdown",
      "source": [
        "\n",
        "\n",
        "### **Naive Bayes (Cross Validation)**"
      ],
      "metadata": {
        "id": "_BKGGO3Pq-2o"
      }
    },
    {
      "cell_type": "code",
      "source": [
        "from sklearn.model_selection import StratifiedKFold\n",
        "num_splits = 20\n",
        "kfold = StratifiedKFold(num_splits, shuffle= True, random_state = 1)\n",
        "train_accs, test_accs = [], [] \n",
        "for train_index, test_index in kfold.split(x, y):  \n",
        "    x_train, x_test = x[train_index], x[test_index]\n",
        "    y_train, y_test = y[train_index], y[test_index]\n",
        "  \n",
        "    naive_bayes_gaussianNB.fit(x_train, y_train)\n",
        "    y_pred_train = naive_bayes_gaussianNB.predict(x_train)\n",
        "    y_pred_test = naive_bayes_gaussianNB.predict(x_test)\n",
        "    \n",
        "    train_accs.append(accuracy_score(y_train, y_pred_train) * 100)\n",
        "    test_accs.append(accuracy_score(y_test, y_pred_test) * 100)\n",
        "ave_train_acc = 0\n",
        "ave_test_acc = 0\n",
        "\n",
        "print(\"\\t\",\"Training_Acc\",\"\\t\\t\", \"Testing_Acc\")\n",
        "\n",
        "for i in range(num_splits):\n",
        "    print(i,\" \\t\",'%.3f'% train_accs[i],\"\\t\\t\", '%.3f'% test_accs[i])\n",
        "    \n",
        "    ave_train_acc+= train_accs[i]/num_splits\n",
        "    ave_test_acc+= test_accs[i]/num_splits\n",
        "    \n",
        "print(\"Average\", \"\",'%.3f'% ave_train_acc,\"\\t\\t\", ave_test_acc)"
      ],
      "metadata": {
        "id": "_2WXC66_cPsN",
        "colab": {
          "base_uri": "https://localhost:8080/"
        },
        "outputId": "606846bb-5fa4-4d42-c545-f98c589cf3a4"
      },
      "execution_count": 14,
      "outputs": [
        {
          "output_type": "stream",
          "name": "stdout",
          "text": [
            "\t Training_Acc \t\t Testing_Acc\n",
            "0  \t 82.394 \t\t 66.667\n",
            "1  \t 82.042 \t\t 66.667\n",
            "2  \t 81.690 \t\t 66.667\n",
            "3  \t 81.338 \t\t 60.000\n",
            "4  \t 81.338 \t\t 86.667\n",
            "5  \t 80.986 \t\t 73.333\n",
            "6  \t 80.986 \t\t 86.667\n",
            "7  \t 79.930 \t\t 86.667\n",
            "8  \t 80.634 \t\t 80.000\n",
            "9  \t 81.338 \t\t 93.333\n",
            "10  \t 81.338 \t\t 80.000\n",
            "11  \t 80.634 \t\t 80.000\n",
            "12  \t 80.986 \t\t 86.667\n",
            "13  \t 81.690 \t\t 80.000\n",
            "14  \t 80.986 \t\t 73.333\n",
            "15  \t 82.042 \t\t 73.333\n",
            "16  \t 80.986 \t\t 80.000\n",
            "17  \t 80.282 \t\t 93.333\n",
            "18  \t 79.930 \t\t 93.333\n",
            "19  \t 80.351 \t\t 92.857\n",
            "Average  81.095 \t\t 79.97619047619048\n"
          ]
        }
      ]
    }
  ]
}